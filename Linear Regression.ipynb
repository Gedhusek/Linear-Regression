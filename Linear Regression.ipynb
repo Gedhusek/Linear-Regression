{
 "cells": [
  {
   "cell_type": "code",
   "execution_count": 1,
   "metadata": {},
   "outputs": [],
   "source": [
    "import pandas as pd\n",
    "import numpy as np\n",
    "import matplotlib.pyplot as plt\n",
    "import seaborn as sns\n",
    "import statsmodels.stats as sts"
   ]
  },
  {
   "cell_type": "code",
   "execution_count": 2,
   "metadata": {},
   "outputs": [],
   "source": [
    "data = pd.read_csv(\"/home/gedhusek/Downloads/13720_18513_bundle_archive.zip\")"
   ]
  },
  {
   "cell_type": "markdown",
   "metadata": {},
   "source": [
    "# Getting familiar with our data"
   ]
  },
  {
   "cell_type": "code",
   "execution_count": 3,
   "metadata": {},
   "outputs": [
    {
     "data": {
      "text/html": [
       "<div>\n",
       "<style scoped>\n",
       "    .dataframe tbody tr th:only-of-type {\n",
       "        vertical-align: middle;\n",
       "    }\n",
       "\n",
       "    .dataframe tbody tr th {\n",
       "        vertical-align: top;\n",
       "    }\n",
       "\n",
       "    .dataframe thead th {\n",
       "        text-align: right;\n",
       "    }\n",
       "</style>\n",
       "<table border=\"1\" class=\"dataframe\">\n",
       "  <thead>\n",
       "    <tr style=\"text-align: right;\">\n",
       "      <th></th>\n",
       "      <th>age</th>\n",
       "      <th>sex</th>\n",
       "      <th>bmi</th>\n",
       "      <th>children</th>\n",
       "      <th>smoker</th>\n",
       "      <th>region</th>\n",
       "      <th>charges</th>\n",
       "    </tr>\n",
       "  </thead>\n",
       "  <tbody>\n",
       "    <tr>\n",
       "      <th>0</th>\n",
       "      <td>19</td>\n",
       "      <td>female</td>\n",
       "      <td>27.900</td>\n",
       "      <td>0</td>\n",
       "      <td>yes</td>\n",
       "      <td>southwest</td>\n",
       "      <td>16884.92400</td>\n",
       "    </tr>\n",
       "    <tr>\n",
       "      <th>1</th>\n",
       "      <td>18</td>\n",
       "      <td>male</td>\n",
       "      <td>33.770</td>\n",
       "      <td>1</td>\n",
       "      <td>no</td>\n",
       "      <td>southeast</td>\n",
       "      <td>1725.55230</td>\n",
       "    </tr>\n",
       "    <tr>\n",
       "      <th>2</th>\n",
       "      <td>28</td>\n",
       "      <td>male</td>\n",
       "      <td>33.000</td>\n",
       "      <td>3</td>\n",
       "      <td>no</td>\n",
       "      <td>southeast</td>\n",
       "      <td>4449.46200</td>\n",
       "    </tr>\n",
       "    <tr>\n",
       "      <th>3</th>\n",
       "      <td>33</td>\n",
       "      <td>male</td>\n",
       "      <td>22.705</td>\n",
       "      <td>0</td>\n",
       "      <td>no</td>\n",
       "      <td>northwest</td>\n",
       "      <td>21984.47061</td>\n",
       "    </tr>\n",
       "    <tr>\n",
       "      <th>4</th>\n",
       "      <td>32</td>\n",
       "      <td>male</td>\n",
       "      <td>28.880</td>\n",
       "      <td>0</td>\n",
       "      <td>no</td>\n",
       "      <td>northwest</td>\n",
       "      <td>3866.85520</td>\n",
       "    </tr>\n",
       "  </tbody>\n",
       "</table>\n",
       "</div>"
      ],
      "text/plain": [
       "   age     sex     bmi  children smoker     region      charges\n",
       "0   19  female  27.900         0    yes  southwest  16884.92400\n",
       "1   18    male  33.770         1     no  southeast   1725.55230\n",
       "2   28    male  33.000         3     no  southeast   4449.46200\n",
       "3   33    male  22.705         0     no  northwest  21984.47061\n",
       "4   32    male  28.880         0     no  northwest   3866.85520"
      ]
     },
     "execution_count": 3,
     "metadata": {},
     "output_type": "execute_result"
    }
   ],
   "source": [
    "data.head() # We will try our best to create the model for charges prediction based on other features"
   ]
  },
  {
   "cell_type": "code",
   "execution_count": 4,
   "metadata": {},
   "outputs": [
    {
     "data": {
      "text/plain": [
       "age         0\n",
       "sex         0\n",
       "bmi         0\n",
       "children    0\n",
       "smoker      0\n",
       "region      0\n",
       "charges     0\n",
       "dtype: int64"
      ]
     },
     "execution_count": 4,
     "metadata": {},
     "output_type": "execute_result"
    }
   ],
   "source": [
    "data.isnull().sum() #We dont have any missing values so thats very convinient for us"
   ]
  },
  {
   "cell_type": "code",
   "execution_count": 5,
   "metadata": {},
   "outputs": [
    {
     "name": "stdout",
     "output_type": "stream",
     "text": [
      "<class 'pandas.core.frame.DataFrame'>\n",
      "RangeIndex: 1338 entries, 0 to 1337\n",
      "Data columns (total 7 columns):\n",
      "age         1338 non-null int64\n",
      "sex         1338 non-null object\n",
      "bmi         1338 non-null float64\n",
      "children    1338 non-null int64\n",
      "smoker      1338 non-null object\n",
      "region      1338 non-null object\n",
      "charges     1338 non-null float64\n",
      "dtypes: float64(2), int64(2), object(3)\n",
      "memory usage: 73.2+ KB\n"
     ]
    }
   ],
   "source": [
    "data.info() #As we can see, we have some object columns. We must deal with them - convert them into numbers"
   ]
  },
  {
   "cell_type": "code",
   "execution_count": 6,
   "metadata": {},
   "outputs": [],
   "source": [
    "data[\"sex\"] # - converting this column wont be hard, we have two possible ways to go.\n",
    "#The first is to assign the value for each sex. The second is to use dummies\n",
    "dummies = pd.get_dummies(data[\"sex\"],drop_first=True)\n",
    "data = pd.concat([data,dummies],axis=1)\n",
    "data = data.drop(\"sex\",axis=1)"
   ]
  },
  {
   "cell_type": "code",
   "execution_count": 7,
   "metadata": {},
   "outputs": [],
   "source": [
    "data[\"smoker\"] #Same approach here, we will use get_dummies to convert these values\n",
    "dummies = pd.get_dummies(data[\"smoker\"],drop_first=True)\n",
    "data = pd.concat([data,dummies],axis=1)\n",
    "data = data.drop(\"smoker\",axis=1)"
   ]
  },
  {
   "cell_type": "code",
   "execution_count": 8,
   "metadata": {},
   "outputs": [],
   "source": [
    "data[\"region\"] #we have 4 different values here, so we will use get_dummies as well\n",
    "dummies = pd.get_dummies(data[\"region\"],drop_first=True)\n",
    "data = pd.concat([data,dummies],axis=1)\n",
    "data = data.drop(\"region\",axis=1)"
   ]
  },
  {
   "cell_type": "code",
   "execution_count": 9,
   "metadata": {},
   "outputs": [
    {
     "name": "stdout",
     "output_type": "stream",
     "text": [
      "<class 'pandas.core.frame.DataFrame'>\n",
      "RangeIndex: 1338 entries, 0 to 1337\n",
      "Data columns (total 9 columns):\n",
      "age          1338 non-null int64\n",
      "bmi          1338 non-null float64\n",
      "children     1338 non-null int64\n",
      "charges      1338 non-null float64\n",
      "male         1338 non-null uint8\n",
      "yes          1338 non-null uint8\n",
      "northwest    1338 non-null uint8\n",
      "southeast    1338 non-null uint8\n",
      "southwest    1338 non-null uint8\n",
      "dtypes: float64(2), int64(2), uint8(5)\n",
      "memory usage: 48.4 KB\n"
     ]
    }
   ],
   "source": [
    "data.info() #At this state, our data is converted into right form, so we can begin with creating our model"
   ]
  },
  {
   "cell_type": "code",
   "execution_count": 10,
   "metadata": {},
   "outputs": [],
   "source": [
    "#Lets define our dependent and independent variables"
   ]
  },
  {
   "cell_type": "code",
   "execution_count": 11,
   "metadata": {},
   "outputs": [],
   "source": [
    "X = data.drop(\"charges\",axis=1).values\n",
    "y = data[\"charges\"].values"
   ]
  },
  {
   "cell_type": "code",
   "execution_count": 12,
   "metadata": {},
   "outputs": [],
   "source": [
    "#Time fot train test split"
   ]
  },
  {
   "cell_type": "code",
   "execution_count": 13,
   "metadata": {},
   "outputs": [],
   "source": [
    "from sklearn.model_selection import train_test_split"
   ]
  },
  {
   "cell_type": "code",
   "execution_count": 14,
   "metadata": {},
   "outputs": [],
   "source": [
    "X_train, X_test, y_train, y_test = train_test_split(X, y, test_size=0.3)"
   ]
  },
  {
   "cell_type": "code",
   "execution_count": 15,
   "metadata": {},
   "outputs": [],
   "source": [
    "#Scaling the data"
   ]
  },
  {
   "cell_type": "code",
   "execution_count": 16,
   "metadata": {},
   "outputs": [],
   "source": [
    "from sklearn.preprocessing import MinMaxScaler"
   ]
  },
  {
   "cell_type": "code",
   "execution_count": 17,
   "metadata": {},
   "outputs": [],
   "source": [
    "scaler = MinMaxScaler()"
   ]
  },
  {
   "cell_type": "code",
   "execution_count": 18,
   "metadata": {},
   "outputs": [],
   "source": [
    "X_train = scaler.fit_transform(X_train)\n",
    "X_test = scaler.transform(X_test)"
   ]
  },
  {
   "cell_type": "code",
   "execution_count": 19,
   "metadata": {},
   "outputs": [],
   "source": [
    "from tensorflow.keras.models import Sequential\n",
    "from tensorflow.keras.layers import Dense, Dropout\n",
    "from tensorflow.keras.callbacks import EarlyStopping"
   ]
  },
  {
   "cell_type": "code",
   "execution_count": 20,
   "metadata": {},
   "outputs": [],
   "source": [
    "#Creating the model\n",
    "model = Sequential()\n",
    "model.add(Dense(16,activation=\"relu\"))\n",
    "model.add(Dropout(0.2))\n",
    "model.add(Dense(16,activation=\"relu\"))\n",
    "model.add(Dropout(0.2))\n",
    "model.add(Dense(8,activation=\"relu\"))\n",
    "model.add(Dropout(0.2))\n",
    "model.add(Dense(4,activation=\"relu\"))\n",
    "model.add(Dropout(0.2))\n",
    "model.add(Dense(1))"
   ]
  },
  {
   "cell_type": "code",
   "execution_count": 21,
   "metadata": {},
   "outputs": [],
   "source": [
    "#Compiling the model\n",
    "model.compile(loss=\"mse\",optimizer=\"adam\")"
   ]
  },
  {
   "cell_type": "code",
   "execution_count": 22,
   "metadata": {},
   "outputs": [],
   "source": [
    "#defining our callback\n",
    "early_stopping = EarlyStopping(monitor=\"val_loss\",mode=\"min\",verbose=1,patience=40)"
   ]
  },
  {
   "cell_type": "code",
   "execution_count": 23,
   "metadata": {},
   "outputs": [
    {
     "name": "stdout",
     "output_type": "stream",
     "text": [
      "Epoch 1/500\n",
      "30/30 [==============================] - 1s 18ms/step - loss: 332544704.0000 - val_loss: 299563360.0000\n",
      "Epoch 2/500\n",
      "30/30 [==============================] - 0s 4ms/step - loss: 332527040.0000 - val_loss: 299530400.0000\n",
      "Epoch 3/500\n",
      "30/30 [==============================] - 0s 3ms/step - loss: 332464864.0000 - val_loss: 299438880.0000\n",
      "Epoch 4/500\n",
      "30/30 [==============================] - 0s 3ms/step - loss: 332321664.0000 - val_loss: 299206048.0000\n",
      "Epoch 5/500\n",
      "30/30 [==============================] - 0s 3ms/step - loss: 331942432.0000 - val_loss: 298649248.0000\n",
      "Epoch 6/500\n",
      "30/30 [==============================] - 0s 3ms/step - loss: 331026496.0000 - val_loss: 297408832.0000\n",
      "Epoch 7/500\n",
      "30/30 [==============================] - 0s 5ms/step - loss: 329145216.0000 - val_loss: 294727936.0000\n",
      "Epoch 8/500\n",
      "30/30 [==============================] - 0s 7ms/step - loss: 324915040.0000 - val_loss: 289412384.0000\n",
      "Epoch 9/500\n",
      "30/30 [==============================] - 0s 3ms/step - loss: 317290848.0000 - val_loss: 279964736.0000\n",
      "Epoch 10/500\n",
      "30/30 [==============================] - 0s 3ms/step - loss: 303719648.0000 - val_loss: 264819136.0000\n",
      "Epoch 11/500\n",
      "30/30 [==============================] - 0s 5ms/step - loss: 285396768.0000 - val_loss: 243176080.0000\n",
      "Epoch 12/500\n",
      "30/30 [==============================] - 0s 7ms/step - loss: 257825376.0000 - val_loss: 214401680.0000\n",
      "Epoch 13/500\n",
      "30/30 [==============================] - 0s 7ms/step - loss: 227500720.0000 - val_loss: 181530608.0000\n",
      "Epoch 14/500\n",
      "30/30 [==============================] - 0s 7ms/step - loss: 203605216.0000 - val_loss: 151347136.0000\n",
      "Epoch 15/500\n",
      "30/30 [==============================] - 0s 7ms/step - loss: 174819616.0000 - val_loss: 130425032.0000\n",
      "Epoch 16/500\n",
      "30/30 [==============================] - 0s 6ms/step - loss: 157953808.0000 - val_loss: 118138968.0000\n",
      "Epoch 17/500\n",
      "30/30 [==============================] - 0s 5ms/step - loss: 154964336.0000 - val_loss: 111980624.0000\n",
      "Epoch 18/500\n",
      "30/30 [==============================] - 0s 6ms/step - loss: 144408528.0000 - val_loss: 109879720.0000\n",
      "Epoch 19/500\n",
      "30/30 [==============================] - 0s 5ms/step - loss: 149451424.0000 - val_loss: 107770704.0000\n",
      "Epoch 20/500\n",
      "30/30 [==============================] - 0s 5ms/step - loss: 140418080.0000 - val_loss: 105765944.0000\n",
      "Epoch 21/500\n",
      "30/30 [==============================] - 0s 7ms/step - loss: 138338608.0000 - val_loss: 104376016.0000\n",
      "Epoch 22/500\n",
      "30/30 [==============================] - 0s 3ms/step - loss: 148698608.0000 - val_loss: 103500040.0000\n",
      "Epoch 23/500\n",
      "30/30 [==============================] - 0s 2ms/step - loss: 140736384.0000 - val_loss: 101450896.0000\n",
      "Epoch 24/500\n",
      "30/30 [==============================] - 0s 6ms/step - loss: 139462544.0000 - val_loss: 99042808.0000\n",
      "Epoch 25/500\n",
      "30/30 [==============================] - 0s 4ms/step - loss: 144874240.0000 - val_loss: 97534696.0000\n",
      "Epoch 26/500\n",
      "30/30 [==============================] - 0s 7ms/step - loss: 138547264.0000 - val_loss: 96323536.0000\n",
      "Epoch 27/500\n",
      "30/30 [==============================] - 0s 7ms/step - loss: 141053168.0000 - val_loss: 95953944.0000\n",
      "Epoch 28/500\n",
      "30/30 [==============================] - 0s 6ms/step - loss: 129668752.0000 - val_loss: 93990536.0000\n",
      "Epoch 29/500\n",
      "30/30 [==============================] - 0s 7ms/step - loss: 131496864.0000 - val_loss: 93157312.0000\n",
      "Epoch 30/500\n",
      "30/30 [==============================] - 0s 7ms/step - loss: 124418136.0000 - val_loss: 91066728.0000\n",
      "Epoch 31/500\n",
      "30/30 [==============================] - 0s 6ms/step - loss: 126823344.0000 - val_loss: 89103296.0000\n",
      "Epoch 32/500\n",
      "30/30 [==============================] - 0s 6ms/step - loss: 131218504.0000 - val_loss: 87538528.0000\n",
      "Epoch 33/500\n",
      "30/30 [==============================] - 0s 5ms/step - loss: 125267688.0000 - val_loss: 85681216.0000\n",
      "Epoch 34/500\n",
      "30/30 [==============================] - 0s 3ms/step - loss: 124465576.0000 - val_loss: 84678256.0000\n",
      "Epoch 35/500\n",
      "30/30 [==============================] - 0s 3ms/step - loss: 123021472.0000 - val_loss: 82497848.0000\n",
      "Epoch 36/500\n",
      "30/30 [==============================] - 0s 3ms/step - loss: 122077376.0000 - val_loss: 81371480.0000\n",
      "Epoch 37/500\n",
      "30/30 [==============================] - 0s 3ms/step - loss: 125523720.0000 - val_loss: 79760000.0000\n",
      "Epoch 38/500\n",
      "30/30 [==============================] - 0s 3ms/step - loss: 123960680.0000 - val_loss: 78343920.0000\n",
      "Epoch 39/500\n",
      "30/30 [==============================] - 0s 4ms/step - loss: 120838704.0000 - val_loss: 75486416.0000\n",
      "Epoch 40/500\n",
      "30/30 [==============================] - 0s 4ms/step - loss: 106696264.0000 - val_loss: 73469072.0000\n",
      "Epoch 41/500\n",
      "30/30 [==============================] - 0s 3ms/step - loss: 117151664.0000 - val_loss: 72552336.0000\n",
      "Epoch 42/500\n",
      "30/30 [==============================] - 0s 3ms/step - loss: 109959568.0000 - val_loss: 71444576.0000\n",
      "Epoch 43/500\n",
      "30/30 [==============================] - 0s 4ms/step - loss: 114205416.0000 - val_loss: 69519872.0000\n",
      "Epoch 44/500\n",
      "30/30 [==============================] - 0s 3ms/step - loss: 110983952.0000 - val_loss: 67359376.0000\n",
      "Epoch 45/500\n",
      "30/30 [==============================] - 0s 3ms/step - loss: 99761464.0000 - val_loss: 65539020.0000\n",
      "Epoch 46/500\n",
      "30/30 [==============================] - 0s 3ms/step - loss: 102070000.0000 - val_loss: 64298804.0000\n",
      "Epoch 47/500\n",
      "30/30 [==============================] - 0s 2ms/step - loss: 108885256.0000 - val_loss: 62470460.0000\n",
      "Epoch 48/500\n",
      "30/30 [==============================] - 0s 2ms/step - loss: 106951520.0000 - val_loss: 61319804.0000\n",
      "Epoch 49/500\n",
      "30/30 [==============================] - 0s 3ms/step - loss: 99332536.0000 - val_loss: 58339452.0000\n",
      "Epoch 50/500\n",
      "30/30 [==============================] - 0s 3ms/step - loss: 96325224.0000 - val_loss: 56723008.0000\n",
      "Epoch 51/500\n",
      "30/30 [==============================] - 0s 3ms/step - loss: 101426696.0000 - val_loss: 55704408.0000\n",
      "Epoch 52/500\n",
      "30/30 [==============================] - 0s 2ms/step - loss: 94285272.0000 - val_loss: 54693100.0000\n",
      "Epoch 53/500\n",
      "30/30 [==============================] - 0s 3ms/step - loss: 91044056.0000 - val_loss: 52467468.0000\n",
      "Epoch 54/500\n",
      "30/30 [==============================] - 0s 2ms/step - loss: 90992048.0000 - val_loss: 52037712.0000\n",
      "Epoch 55/500\n",
      "30/30 [==============================] - 0s 2ms/step - loss: 89309584.0000 - val_loss: 49818552.0000\n",
      "Epoch 56/500\n",
      "30/30 [==============================] - 0s 3ms/step - loss: 95084744.0000 - val_loss: 50127092.0000\n",
      "Epoch 57/500\n",
      "30/30 [==============================] - 0s 2ms/step - loss: 92995992.0000 - val_loss: 49032988.0000\n",
      "Epoch 58/500\n",
      "30/30 [==============================] - 0s 3ms/step - loss: 92309040.0000 - val_loss: 46665464.0000\n",
      "Epoch 59/500\n",
      "30/30 [==============================] - 0s 3ms/step - loss: 94200944.0000 - val_loss: 46378524.0000\n",
      "Epoch 60/500\n",
      "30/30 [==============================] - 0s 2ms/step - loss: 93678864.0000 - val_loss: 45667696.0000\n",
      "Epoch 61/500\n",
      "30/30 [==============================] - 0s 3ms/step - loss: 89584944.0000 - val_loss: 44803240.0000\n",
      "Epoch 62/500\n",
      "30/30 [==============================] - 0s 2ms/step - loss: 87403552.0000 - val_loss: 44836152.0000\n",
      "Epoch 63/500\n",
      "30/30 [==============================] - 0s 2ms/step - loss: 84581120.0000 - val_loss: 42745852.0000\n",
      "Epoch 64/500\n",
      "30/30 [==============================] - 0s 5ms/step - loss: 85623184.0000 - val_loss: 43203968.0000\n",
      "Epoch 65/500\n",
      "30/30 [==============================] - 0s 8ms/step - loss: 81841328.0000 - val_loss: 43569488.0000\n",
      "Epoch 66/500\n",
      "30/30 [==============================] - 0s 6ms/step - loss: 86498112.0000 - val_loss: 41552768.0000\n",
      "Epoch 67/500\n",
      "30/30 [==============================] - 0s 7ms/step - loss: 87650336.0000 - val_loss: 40380272.0000\n",
      "Epoch 68/500\n",
      "30/30 [==============================] - 0s 9ms/step - loss: 89089608.0000 - val_loss: 40397120.0000\n",
      "Epoch 69/500\n",
      "30/30 [==============================] - 0s 8ms/step - loss: 80098504.0000 - val_loss: 40785444.0000\n",
      "Epoch 70/500\n",
      "30/30 [==============================] - 0s 3ms/step - loss: 75513096.0000 - val_loss: 41734724.0000\n",
      "Epoch 71/500\n",
      "30/30 [==============================] - 0s 3ms/step - loss: 83064056.0000 - val_loss: 41522412.0000\n",
      "Epoch 72/500\n"
     ]
    },
    {
     "name": "stdout",
     "output_type": "stream",
     "text": [
      "30/30 [==============================] - 0s 2ms/step - loss: 83092792.0000 - val_loss: 40131896.0000\n",
      "Epoch 73/500\n",
      "30/30 [==============================] - 0s 5ms/step - loss: 81439616.0000 - val_loss: 40286596.0000\n",
      "Epoch 74/500\n",
      "30/30 [==============================] - 0s 6ms/step - loss: 79764576.0000 - val_loss: 39548784.0000\n",
      "Epoch 75/500\n",
      "30/30 [==============================] - 0s 4ms/step - loss: 84920800.0000 - val_loss: 39213944.0000\n",
      "Epoch 76/500\n",
      "30/30 [==============================] - 0s 6ms/step - loss: 86459984.0000 - val_loss: 39299344.0000\n",
      "Epoch 77/500\n",
      "30/30 [==============================] - 0s 8ms/step - loss: 79095488.0000 - val_loss: 39121692.0000\n",
      "Epoch 78/500\n",
      "30/30 [==============================] - 0s 6ms/step - loss: 72721240.0000 - val_loss: 38222144.0000\n",
      "Epoch 79/500\n",
      "30/30 [==============================] - 0s 4ms/step - loss: 80353616.0000 - val_loss: 38295696.0000\n",
      "Epoch 80/500\n",
      "30/30 [==============================] - 0s 4ms/step - loss: 79989888.0000 - val_loss: 38937820.0000\n",
      "Epoch 81/500\n",
      "30/30 [==============================] - 0s 4ms/step - loss: 78502888.0000 - val_loss: 37680716.0000\n",
      "Epoch 82/500\n",
      "30/30 [==============================] - 0s 3ms/step - loss: 90001896.0000 - val_loss: 38025236.0000\n",
      "Epoch 83/500\n",
      "30/30 [==============================] - 0s 3ms/step - loss: 87668456.0000 - val_loss: 39248660.0000\n",
      "Epoch 84/500\n",
      "30/30 [==============================] - 0s 4ms/step - loss: 78666608.0000 - val_loss: 39582704.0000\n",
      "Epoch 85/500\n",
      "30/30 [==============================] - 0s 4ms/step - loss: 87727968.0000 - val_loss: 38978956.0000\n",
      "Epoch 86/500\n",
      "30/30 [==============================] - 0s 4ms/step - loss: 80071880.0000 - val_loss: 39031064.0000\n",
      "Epoch 87/500\n",
      "30/30 [==============================] - 0s 3ms/step - loss: 87124376.0000 - val_loss: 38918148.0000\n",
      "Epoch 88/500\n",
      "30/30 [==============================] - 0s 4ms/step - loss: 77090344.0000 - val_loss: 37794904.0000\n",
      "Epoch 89/500\n",
      "30/30 [==============================] - 0s 3ms/step - loss: 79214248.0000 - val_loss: 37267100.0000\n",
      "Epoch 90/500\n",
      "30/30 [==============================] - 0s 3ms/step - loss: 84028944.0000 - val_loss: 37608872.0000\n",
      "Epoch 91/500\n",
      "30/30 [==============================] - 0s 3ms/step - loss: 82392288.0000 - val_loss: 37582904.0000\n",
      "Epoch 92/500\n",
      "30/30 [==============================] - 0s 4ms/step - loss: 75272560.0000 - val_loss: 37674612.0000\n",
      "Epoch 93/500\n",
      "30/30 [==============================] - 0s 4ms/step - loss: 79241616.0000 - val_loss: 38144540.0000\n",
      "Epoch 94/500\n",
      "30/30 [==============================] - 0s 4ms/step - loss: 82034944.0000 - val_loss: 39216264.0000\n",
      "Epoch 95/500\n",
      "30/30 [==============================] - 0s 3ms/step - loss: 77802416.0000 - val_loss: 37653604.0000\n",
      "Epoch 96/500\n",
      "30/30 [==============================] - 0s 3ms/step - loss: 81469592.0000 - val_loss: 38217444.0000\n",
      "Epoch 97/500\n",
      "30/30 [==============================] - 0s 4ms/step - loss: 84970832.0000 - val_loss: 38726912.0000\n",
      "Epoch 98/500\n",
      "30/30 [==============================] - 0s 3ms/step - loss: 72772216.0000 - val_loss: 38496156.0000\n",
      "Epoch 99/500\n",
      "30/30 [==============================] - 0s 4ms/step - loss: 73080776.0000 - val_loss: 37964820.0000\n",
      "Epoch 100/500\n",
      "30/30 [==============================] - 0s 4ms/step - loss: 76442456.0000 - val_loss: 38020676.0000\n",
      "Epoch 101/500\n",
      "30/30 [==============================] - 0s 4ms/step - loss: 77327984.0000 - val_loss: 38067048.0000\n",
      "Epoch 102/500\n",
      "30/30 [==============================] - 0s 4ms/step - loss: 86874936.0000 - val_loss: 39007592.0000\n",
      "Epoch 103/500\n",
      "30/30 [==============================] - 0s 5ms/step - loss: 86466272.0000 - val_loss: 39058872.0000\n",
      "Epoch 104/500\n",
      "30/30 [==============================] - 0s 7ms/step - loss: 85824960.0000 - val_loss: 38821392.0000\n",
      "Epoch 105/500\n",
      "30/30 [==============================] - 0s 7ms/step - loss: 85249496.0000 - val_loss: 39248936.0000\n",
      "Epoch 106/500\n",
      "30/30 [==============================] - 0s 4ms/step - loss: 78868664.0000 - val_loss: 39188004.0000\n",
      "Epoch 107/500\n",
      "30/30 [==============================] - 0s 4ms/step - loss: 76717688.0000 - val_loss: 39539248.0000\n",
      "Epoch 108/500\n",
      "30/30 [==============================] - 0s 4ms/step - loss: 79151680.0000 - val_loss: 37992028.0000\n",
      "Epoch 109/500\n",
      "30/30 [==============================] - 0s 3ms/step - loss: 81128936.0000 - val_loss: 37107316.0000\n",
      "Epoch 110/500\n",
      "30/30 [==============================] - 0s 4ms/step - loss: 80749448.0000 - val_loss: 37820524.0000\n",
      "Epoch 111/500\n",
      "30/30 [==============================] - 0s 3ms/step - loss: 78956328.0000 - val_loss: 37238700.0000\n",
      "Epoch 112/500\n",
      "30/30 [==============================] - 0s 3ms/step - loss: 75644384.0000 - val_loss: 36671608.0000\n",
      "Epoch 113/500\n",
      "30/30 [==============================] - 0s 3ms/step - loss: 80715704.0000 - val_loss: 39274864.0000\n",
      "Epoch 114/500\n",
      "30/30 [==============================] - 0s 4ms/step - loss: 78692576.0000 - val_loss: 39191764.0000\n",
      "Epoch 115/500\n",
      "30/30 [==============================] - 0s 4ms/step - loss: 76899040.0000 - val_loss: 37171872.0000\n",
      "Epoch 116/500\n",
      "30/30 [==============================] - 0s 3ms/step - loss: 76221424.0000 - val_loss: 37386572.0000\n",
      "Epoch 117/500\n",
      "30/30 [==============================] - 0s 4ms/step - loss: 71603888.0000 - val_loss: 36139648.0000\n",
      "Epoch 118/500\n",
      "30/30 [==============================] - 0s 4ms/step - loss: 84449272.0000 - val_loss: 37216200.0000\n",
      "Epoch 119/500\n",
      "30/30 [==============================] - 0s 3ms/step - loss: 75021520.0000 - val_loss: 37653860.0000\n",
      "Epoch 120/500\n",
      "30/30 [==============================] - 0s 3ms/step - loss: 84464736.0000 - val_loss: 36301672.0000\n",
      "Epoch 121/500\n",
      "30/30 [==============================] - 0s 4ms/step - loss: 77901448.0000 - val_loss: 35617116.0000\n",
      "Epoch 122/500\n",
      "30/30 [==============================] - 0s 4ms/step - loss: 75621904.0000 - val_loss: 36773536.0000\n",
      "Epoch 123/500\n",
      "30/30 [==============================] - 0s 3ms/step - loss: 75136176.0000 - val_loss: 37109940.0000\n",
      "Epoch 124/500\n",
      "30/30 [==============================] - 0s 3ms/step - loss: 81366896.0000 - val_loss: 38780224.0000\n",
      "Epoch 125/500\n",
      "30/30 [==============================] - 0s 3ms/step - loss: 88194408.0000 - val_loss: 37055932.0000\n",
      "Epoch 126/500\n",
      "30/30 [==============================] - 0s 4ms/step - loss: 76919912.0000 - val_loss: 38510604.0000\n",
      "Epoch 127/500\n",
      "30/30 [==============================] - 0s 4ms/step - loss: 86057880.0000 - val_loss: 38478348.0000\n",
      "Epoch 128/500\n",
      "30/30 [==============================] - 0s 4ms/step - loss: 74670728.0000 - val_loss: 37303088.0000\n",
      "Epoch 129/500\n",
      "30/30 [==============================] - 0s 4ms/step - loss: 79117032.0000 - val_loss: 38065052.0000\n",
      "Epoch 130/500\n",
      "30/30 [==============================] - 0s 4ms/step - loss: 75374776.0000 - val_loss: 37651304.0000\n",
      "Epoch 131/500\n",
      "30/30 [==============================] - 0s 4ms/step - loss: 74795792.0000 - val_loss: 36356996.0000\n",
      "Epoch 132/500\n",
      "30/30 [==============================] - 0s 4ms/step - loss: 77405568.0000 - val_loss: 36866952.0000\n",
      "Epoch 133/500\n",
      "30/30 [==============================] - 0s 4ms/step - loss: 81366376.0000 - val_loss: 37037340.0000\n",
      "Epoch 134/500\n",
      "30/30 [==============================] - 0s 4ms/step - loss: 76751992.0000 - val_loss: 38129172.0000\n",
      "Epoch 135/500\n",
      "30/30 [==============================] - 0s 4ms/step - loss: 84273704.0000 - val_loss: 38525064.0000\n",
      "Epoch 136/500\n",
      "30/30 [==============================] - 0s 3ms/step - loss: 79788608.0000 - val_loss: 37687324.0000\n",
      "Epoch 137/500\n",
      "30/30 [==============================] - 0s 4ms/step - loss: 81575728.0000 - val_loss: 38481228.0000\n",
      "Epoch 138/500\n",
      "30/30 [==============================] - 0s 3ms/step - loss: 80400736.0000 - val_loss: 36868892.0000\n",
      "Epoch 139/500\n",
      "30/30 [==============================] - 0s 4ms/step - loss: 84755880.0000 - val_loss: 36538756.0000\n",
      "Epoch 140/500\n",
      "30/30 [==============================] - 0s 4ms/step - loss: 78303640.0000 - val_loss: 38826608.0000\n",
      "Epoch 141/500\n",
      "30/30 [==============================] - 0s 3ms/step - loss: 76483176.0000 - val_loss: 39120256.0000\n",
      "Epoch 142/500\n",
      "30/30 [==============================] - 0s 2ms/step - loss: 77947912.0000 - val_loss: 37735840.0000\n",
      "Epoch 143/500\n"
     ]
    },
    {
     "name": "stdout",
     "output_type": "stream",
     "text": [
      "30/30 [==============================] - 0s 4ms/step - loss: 82798120.0000 - val_loss: 37462936.0000\n",
      "Epoch 144/500\n",
      "30/30 [==============================] - 0s 3ms/step - loss: 81323072.0000 - val_loss: 36212672.0000\n",
      "Epoch 145/500\n",
      "30/30 [==============================] - 0s 3ms/step - loss: 84377032.0000 - val_loss: 36814380.0000\n",
      "Epoch 146/500\n",
      "30/30 [==============================] - 0s 4ms/step - loss: 78500328.0000 - val_loss: 37199520.0000\n",
      "Epoch 147/500\n",
      "30/30 [==============================] - 0s 4ms/step - loss: 81103784.0000 - val_loss: 36837948.0000\n",
      "Epoch 148/500\n",
      "30/30 [==============================] - 0s 4ms/step - loss: 77267392.0000 - val_loss: 36260964.0000\n",
      "Epoch 149/500\n",
      "30/30 [==============================] - 0s 4ms/step - loss: 79007864.0000 - val_loss: 36692336.0000\n",
      "Epoch 150/500\n",
      "30/30 [==============================] - 0s 3ms/step - loss: 84039624.0000 - val_loss: 38773040.0000\n",
      "Epoch 151/500\n",
      "30/30 [==============================] - 0s 3ms/step - loss: 80826872.0000 - val_loss: 38066188.0000\n",
      "Epoch 152/500\n",
      "30/30 [==============================] - 0s 3ms/step - loss: 82273712.0000 - val_loss: 37128444.0000\n",
      "Epoch 153/500\n",
      "30/30 [==============================] - 0s 3ms/step - loss: 80725424.0000 - val_loss: 37071284.0000\n",
      "Epoch 154/500\n",
      "30/30 [==============================] - 0s 3ms/step - loss: 81932288.0000 - val_loss: 36637624.0000\n",
      "Epoch 155/500\n",
      "30/30 [==============================] - 0s 4ms/step - loss: 79872096.0000 - val_loss: 37311940.0000\n",
      "Epoch 156/500\n",
      "30/30 [==============================] - 0s 4ms/step - loss: 77505352.0000 - val_loss: 36787164.0000\n",
      "Epoch 157/500\n",
      "30/30 [==============================] - 0s 4ms/step - loss: 85451960.0000 - val_loss: 37068168.0000\n",
      "Epoch 158/500\n",
      "30/30 [==============================] - 0s 4ms/step - loss: 86876992.0000 - val_loss: 37189536.0000\n",
      "Epoch 159/500\n",
      "30/30 [==============================] - 0s 3ms/step - loss: 78272696.0000 - val_loss: 39432560.0000\n",
      "Epoch 160/500\n",
      "30/30 [==============================] - 0s 3ms/step - loss: 81393456.0000 - val_loss: 38463672.0000\n",
      "Epoch 161/500\n",
      "30/30 [==============================] - 0s 3ms/step - loss: 76684160.0000 - val_loss: 36663596.0000\n",
      "Epoch 00161: early stopping\n"
     ]
    },
    {
     "data": {
      "text/plain": [
       "<tensorflow.python.keras.callbacks.History at 0x7fda5c244f28>"
      ]
     },
     "execution_count": 23,
     "metadata": {},
     "output_type": "execute_result"
    }
   ],
   "source": [
    "#Fitting the model\n",
    "model.fit(X_train,y_train,epochs=500,validation_data=(X_test,y_test),verbose=1,callbacks=[early_stopping])"
   ]
  },
  {
   "cell_type": "code",
   "execution_count": 24,
   "metadata": {},
   "outputs": [],
   "source": [
    "loss_df = pd.DataFrame(model.history.history)"
   ]
  },
  {
   "cell_type": "code",
   "execution_count": 25,
   "metadata": {},
   "outputs": [
    {
     "data": {
      "text/plain": [
       "<matplotlib.axes._subplots.AxesSubplot at 0x7fda541249b0>"
      ]
     },
     "execution_count": 25,
     "metadata": {},
     "output_type": "execute_result"
    },
    {
     "data": {
      "image/png": "[encoded data removed]",
      "text/plain": [
       "<Figure size 432x288 with 1 Axes>"
      ]
     },
     "metadata": {},
     "output_type": "display_data"
    }
   ],
   "source": [
    "#Plotting the loss\n",
    "loss_df.plot()"
   ]
  },
  {
   "cell_type": "code",
   "execution_count": 26,
   "metadata": {},
   "outputs": [],
   "source": [
    "predictions = model.predict(X_test)"
   ]
  },
  {
   "cell_type": "code",
   "execution_count": 27,
   "metadata": {},
   "outputs": [],
   "source": [
    "from sklearn.metrics import mean_absolute_error"
   ]
  },
  {
   "cell_type": "code",
   "execution_count": 34,
   "metadata": {},
   "outputs": [
    {
     "name": "stdout",
     "output_type": "stream",
     "text": [
      "3660.253072973842\n"
     ]
    }
   ],
   "source": [
    "print(mean_absolute_error(y_test,predictions)) #Our mean absolute error is 3660 dollars"
   ]
  },
  {
   "cell_type": "code",
   "execution_count": 37,
   "metadata": {},
   "outputs": [],
   "source": [
    "predictions = pd.Series(predictions.reshape(402,))"
   ]
  },
  {
   "cell_type": "code",
   "execution_count": 38,
   "metadata": {},
   "outputs": [
    {
     "data": {
      "text/plain": [
       "<matplotlib.axes._subplots.AxesSubplot at 0x7fda345d2908>"
      ]
     },
     "execution_count": 38,
     "metadata": {},
     "output_type": "execute_result"
    },
    {
     "data": {
      "image/png": "[encoded data removed]",
      "text/plain": [
       "<Figure size 432x288 with 1 Axes>"
      ]
     },
     "metadata": {},
     "output_type": "display_data"
    }
   ],
   "source": [
    "sns.kdeplot(y_test)\n",
    "sns.kdeplot(predictions.values)"
   ]
  },
  {
   "cell_type": "code",
   "execution_count": 39,
   "metadata": {},
   "outputs": [],
   "source": [
    "#Our model didnt find a way how to deal with ourliers. We had a small sample for training, so thats the reason"
   ]
  },
  {
   "cell_type": "code",
   "execution_count": 40,
   "metadata": {},
   "outputs": [],
   "source": [
    "error= mean_absolute_error(y_test,predictions)"
   ]
  },
  {
   "cell_type": "code",
   "execution_count": 42,
   "metadata": {},
   "outputs": [
    {
     "data": {
      "text/plain": [
       "27.582039213541787"
      ]
     },
     "execution_count": 42,
     "metadata": {},
     "output_type": "execute_result"
    }
   ],
   "source": [
    "error/(data[\"charges\"].mean()/100) #we are off by 27.5 percent"
   ]
  },
  {
   "cell_type": "code",
   "execution_count": null,
   "metadata": {},
   "outputs": [],
   "source": []
  },
  {
   "cell_type": "code",
   "execution_count": null,
   "metadata": {},
   "outputs": [],
   "source": []
  }
 ],
 "metadata": {
  "kernelspec": {
   "display_name": "Python 3",
   "language": "python",
   "name": "python3"
  },
  "language_info": {
   "codemirror_mode": {
    "name": "ipython",
    "version": 3
   },
   "file_extension": ".py",
   "mimetype": "text/x-python",
   "name": "python",
   "nbconvert_exporter": "python",
   "pygments_lexer": "ipython3",
   "version": "3.6.5"
  }
 },
 "nbformat": 4,
 "nbformat_minor": 2
}
